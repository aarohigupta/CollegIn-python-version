{
  "nbformat": 4,
  "nbformat_minor": 0,
  "metadata": {
    "colab": {
      "name": "CollegIn.ipynb",
      "provenance": [],
      "collapsed_sections": [],
      "authorship_tag": "ABX9TyO4lMlJhh/mXQY6lZY+SbDg",
      "include_colab_link": true
    },
    "kernelspec": {
      "name": "python3",
      "display_name": "Python 3"
    }
  },
  "cells": [
    {
      "cell_type": "markdown",
      "metadata": {
        "id": "view-in-github",
        "colab_type": "text"
      },
      "source": [
        "<a href=\"https://colab.research.google.com/github/aarohigupta/CollegIn-python-version/blob/main/CollegIn.ipynb\" target=\"_parent\"><img src=\"https://colab.research.google.com/assets/colab-badge.svg\" alt=\"Open In Colab\"/></a>"
      ]
    },
    {
      "cell_type": "markdown",
      "metadata": {
        "id": "u4a1AGdcBm03"
      },
      "source": [
        "#CollegIn: begin your university research now!\n",
        "\n",
        "The puropose of this is to help you get started out with your college research. I remember having to spend too much time googling the same information about multiple universities. It's something we all have to do, but unfortunately, typing isn't very efficient. \n",
        "\n",
        "So, this code does some of the work for you. By the end, you'll have an excel sheet with links to some basic research you **definitely** need. \n",
        "\n",
        "What is this basic research?\n",
        "\n",
        "For each of the universities you'll get information about:\n",
        "\n",
        "1.   Their fee\n",
        "2.   The acceptance rates\n",
        "3.   The clubs\n",
        "4.   The research in the university\n",
        "5.   Notable faculty\n",
        "6.   Blogs by admission officers\n",
        "\n",
        "\n",
        "\n",
        "Just follow along with the instructions below!\n",
        "\n",
        "\n",
        "(the instructions are a little long, but I would recommend reading through all of it, especially if you haven't used Colab before)\n",
        "\n",
        "\n",
        "---\n",
        "\n",
        "#Disclaimer\n",
        "It is possible to edit the notebook so I'd recommend not double clicking anywhere on the file. Happy researching!\n",
        "\n",
        "---\n",
        "\n"
      ]
    },
    {
      "cell_type": "markdown",
      "metadata": {
        "id": "9JpKaDWVEMOn"
      },
      "source": [
        "The first step is to run the file. \n",
        "\n",
        "1.   If you're on a mac, press **`⌘ + fn + F9`**\n",
        "2.   If you're on using windows, press **`ctrl + F9`**\n",
        "\n",
        "This will run all the cells in this file.\n",
        "\n",
        "When you do this, you will get a warning saying:\n",
        "\n",
        "**Warning: This notebook was not authored by Google.**\n",
        "\n",
        "All this means is that this file was not made by google, but has instead been made by me. The file does not access your drive or your data so click on the **run anyway** button.\n",
        "\n"
      ]
    },
    {
      "cell_type": "code",
      "metadata": {
        "id": "OwrTCziH6N4C",
        "cellView": "form"
      },
      "source": [
        "#@title Collecting the necessary tools\n",
        "from googlesearch import search\n",
        "import numpy as np\n",
        "import pandas as pd\n",
        "from google.colab import files"
      ],
      "execution_count": null,
      "outputs": []
    },
    {
      "cell_type": "markdown",
      "metadata": {
        "id": "C0qigPiOFKIw"
      },
      "source": [
        "Now, you'll get a question asking you what colleges you're looking for. In the input box right next to it, write down the names of the universities you want to find information about. Once you're done, press **enter**. (the file will not move to the next step until you press enter)\n",
        "\n",
        "Each university name should be separated by a comma. For example: `Cornell, Stanford, Yale`\n",
        "\n",
        "Note: ensure that there are no commas in the name of the university\n",
        "\n",
        "DO NOT DO THIS: don't write it as `university of austin, texas` instead write it as `university of austin texas`\n",
        "\n",
        "DISCLAIMER: It will take some time for the next few cells to run. The longer your list of universities is, the more time it will take. It will still, however, take less time than it would've to tediously google each of these things. Thank god for automation!\n",
        "\n",
        "So, keep that in mind when you're typing the names. Maybe writing 50 names isn't the best idea...\n"
      ]
    },
    {
      "cell_type": "code",
      "metadata": {
        "id": "nk8q0wjI6jR7",
        "cellView": "form"
      },
      "source": [
        "#@title Asking for your university\n",
        "college = input(\"what colleges are you looking for? \")\n",
        "college = college.strip(' ')\n",
        "college_list = college.split(',')"
      ],
      "execution_count": null,
      "outputs": []
    },
    {
      "cell_type": "markdown",
      "metadata": {
        "id": "nr32vO7MGRey"
      },
      "source": [
        "It might take longer than you expect it to, but please be patient!\n",
        "\n",
        "You can always switch to another tab and do something else while this file is running. As soon as you've written down the names of the universities and pressed enter, feel free to do whatever you want, as long as this tab is open!\n"
      ]
    },
    {
      "cell_type": "code",
      "metadata": {
        "id": "cQ_egNz26jj8",
        "cellView": "form"
      },
      "source": [
        "#@title Collecting all the required information and downloading it\n",
        "fee = []\n",
        "for i in range(len(college_list)):\n",
        "  col = college_list[i]\n",
        "  query = str(col + \"fee\")\n",
        "  for j in search(query, tld=\"com\", num=1, stop=1, pause=2): \n",
        "    fee.append(j)\n",
        "\n",
        "rate = []\n",
        "for i in range(len(college_list)):\n",
        "  col = college_list[i]\n",
        "  query = str(col + \"Acceptance Rate\")\n",
        "  for j in search(query, tld=\"com\", num=1, stop=1, pause=2): \n",
        "    rate.append(j)\n",
        "\n",
        "clubs = []\n",
        "for i in range(len(college_list)):\n",
        "  col = college_list[i]\n",
        "  query = str(col + \"Clubs\")\n",
        "  for j in search(query, tld=\"com\", num=1, stop=1, pause=2): \n",
        "    clubs.append(j)\n",
        "\n",
        "research = []\n",
        "for i in range(len(college_list)):\n",
        "  col = college_list[i]\n",
        "  query = str(col + \"Current research areas\")\n",
        "  for j in search(query, tld=\"com\", num=1, stop=1, pause=2): \n",
        "    research.append(j)\n",
        "\n",
        "faculty = []\n",
        "for i in range(len(college_list)):\n",
        "  col = college_list[i]\n",
        "  query = str(col + \"Notable Faculty\")\n",
        "  for j in search(query, tld=\"com\", num=1, stop=1, pause=2): \n",
        "    faculty.append(j)\n",
        "\n",
        "blogs_adm = []\n",
        "for i in range(len(college_list)):\n",
        "  col = college_list[i]\n",
        "  query = str(col + \"Blogs by the admission team\")\n",
        "  for j in search(query, tld=\"com\", num=1, stop=1, pause=2): \n",
        "    blogs_adm.append(j)\n",
        "  \n",
        "dict = {'fee': fee, 'acceptance rate': rate, 'clubs': clubs, 'research' : research, 'notable faculty': faculty, 'blogs by admin officers' : blogs_adm}\n",
        "df = pd.DataFrame(dict, index=college_list)\n",
        "\n",
        "df.to_csv('college_info.csv')\n",
        "files.download(\"college_info.csv\")"
      ],
      "execution_count": null,
      "outputs": []
    },
    {
      "cell_type": "markdown",
      "metadata": {
        "id": "TPnB8UBqGzlr"
      },
      "source": [
        "If the above cell has already run, then congratulations! You will notice that you a new file called college_info.csv has been downloaded into your system. \n",
        "\n",
        "This file contains all the links that this code just found! CSV files automatically open on Excel or Keynote. If, somehow, the file opens on a text editor, just open it using Excel or Keynote instead! \n",
        "\n",
        "If you missed out the names of some of the universities on your first go, you can always re-run the code pressing **`⌘ + fn + F9`** or **`ctrl + F9`**  and inputting new university names this time!\n",
        "\n",
        "\n",
        "\n",
        "---\n",
        "---\n",
        "\n",
        "If you used this code and liked it, feel free to share it to your friends and peers who might need it too! You can also connect with me on my [LinkedIn](https://www.linkedin.com/in/aarohi-gupta2211/) or [Instagram](https://www.instagram.com/aarohi.gupta.2211/) if you have any inputs or just want to chat!"
      ]
    }
  ]
}